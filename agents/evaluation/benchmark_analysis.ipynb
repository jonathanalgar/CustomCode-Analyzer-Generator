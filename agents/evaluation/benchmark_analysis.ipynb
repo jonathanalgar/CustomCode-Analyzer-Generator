{
 "cells": [
  {
   "cell_type": "code",
   "execution_count": 1,
   "metadata": {},
   "outputs": [],
   "source": [
    "%load_ext autoreload\n",
    "%autoreload 2"
   ]
  },
  {
   "cell_type": "code",
   "execution_count": 4,
   "metadata": {},
   "outputs": [
    {
     "data": {
      "application/vnd.jupyter.widget-view+json": {
       "model_id": "e6f3b966b81e44e497111cb30a58fd0f",
       "version_major": 2,
       "version_minor": 0
      },
      "text/plain": [
       "VBox(children=(VBox(children=(Checkbox(value=True, description='run_8cb9f | 2025-02-25 03:26:01 | o3-mini (rea…"
      ]
     },
     "metadata": {},
     "output_type": "display_data"
    }
   ],
   "source": [
    "from pathlib import Path\n",
    "from benchmark_analysis import display_benchmark_analysis\n",
    "from IPython.display import clear_output\n",
    "\n",
    "clear_output(wait=True)\n",
    "BENCHMARK_FOLDER = Path(\"../../benchmark_results\")\n",
    "display_benchmark_analysis(BENCHMARK_FOLDER)"
   ]
  }
 ],
 "metadata": {
  "kernelspec": {
   "display_name": ".venv",
   "language": "python",
   "name": "python3"
  },
  "language_info": {
   "codemirror_mode": {
    "name": "ipython",
    "version": 3
   },
   "file_extension": ".py",
   "mimetype": "text/x-python",
   "name": "python",
   "nbconvert_exporter": "python",
   "pygments_lexer": "ipython3",
   "version": "3.11.10"
  }
 },
 "nbformat": 4,
 "nbformat_minor": 2
}
